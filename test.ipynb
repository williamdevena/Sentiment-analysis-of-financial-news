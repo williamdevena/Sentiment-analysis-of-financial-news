{
 "cells": [
  {
   "cell_type": "code",
   "execution_count": 1,
   "metadata": {},
   "outputs": [],
   "source": [
    "import pandas as pd\n",
    "from utils import costants\n",
    "import nltk\n",
    "#nltk.download()"
   ]
  },
  {
   "cell_type": "code",
   "execution_count": 2,
   "metadata": {},
   "outputs": [
    {
     "data": {
      "text/html": [
       "<div>\n",
       "<style scoped>\n",
       "    .dataframe tbody tr th:only-of-type {\n",
       "        vertical-align: middle;\n",
       "    }\n",
       "\n",
       "    .dataframe tbody tr th {\n",
       "        vertical-align: top;\n",
       "    }\n",
       "\n",
       "    .dataframe thead th {\n",
       "        text-align: right;\n",
       "    }\n",
       "</style>\n",
       "<table border=\"1\" class=\"dataframe\">\n",
       "  <thead>\n",
       "    <tr style=\"text-align: right;\">\n",
       "      <th></th>\n",
       "      <th>sentiment</th>\n",
       "      <th>text</th>\n",
       "    </tr>\n",
       "  </thead>\n",
       "  <tbody>\n",
       "    <tr>\n",
       "      <th>0</th>\n",
       "      <td>neutral</td>\n",
       "      <td>According to Gran , the company has no plans t...</td>\n",
       "    </tr>\n",
       "    <tr>\n",
       "      <th>1</th>\n",
       "      <td>neutral</td>\n",
       "      <td>Technopolis plans to develop in stages an area...</td>\n",
       "    </tr>\n",
       "    <tr>\n",
       "      <th>2</th>\n",
       "      <td>negative</td>\n",
       "      <td>The international electronic industry company ...</td>\n",
       "    </tr>\n",
       "    <tr>\n",
       "      <th>3</th>\n",
       "      <td>positive</td>\n",
       "      <td>With the new production plant the company woul...</td>\n",
       "    </tr>\n",
       "    <tr>\n",
       "      <th>4</th>\n",
       "      <td>positive</td>\n",
       "      <td>According to the company 's updated strategy f...</td>\n",
       "    </tr>\n",
       "    <tr>\n",
       "      <th>...</th>\n",
       "      <td>...</td>\n",
       "      <td>...</td>\n",
       "    </tr>\n",
       "    <tr>\n",
       "      <th>4841</th>\n",
       "      <td>negative</td>\n",
       "      <td>LONDON MarketWatch -- Share prices ended lower...</td>\n",
       "    </tr>\n",
       "    <tr>\n",
       "      <th>4842</th>\n",
       "      <td>neutral</td>\n",
       "      <td>Rinkuskiai 's beer sales fell by 6.5 per cent ...</td>\n",
       "    </tr>\n",
       "    <tr>\n",
       "      <th>4843</th>\n",
       "      <td>negative</td>\n",
       "      <td>Operating profit fell to EUR 35.4 mn from EUR ...</td>\n",
       "    </tr>\n",
       "    <tr>\n",
       "      <th>4844</th>\n",
       "      <td>negative</td>\n",
       "      <td>Net sales of the Paper segment decreased to EU...</td>\n",
       "    </tr>\n",
       "    <tr>\n",
       "      <th>4845</th>\n",
       "      <td>negative</td>\n",
       "      <td>Sales in Finland decreased by 10.5 % in Januar...</td>\n",
       "    </tr>\n",
       "  </tbody>\n",
       "</table>\n",
       "<p>4846 rows × 2 columns</p>\n",
       "</div>"
      ],
      "text/plain": [
       "     sentiment                                               text\n",
       "0      neutral  According to Gran , the company has no plans t...\n",
       "1      neutral  Technopolis plans to develop in stages an area...\n",
       "2     negative  The international electronic industry company ...\n",
       "3     positive  With the new production plant the company woul...\n",
       "4     positive  According to the company 's updated strategy f...\n",
       "...        ...                                                ...\n",
       "4841  negative  LONDON MarketWatch -- Share prices ended lower...\n",
       "4842   neutral  Rinkuskiai 's beer sales fell by 6.5 per cent ...\n",
       "4843  negative  Operating profit fell to EUR 35.4 mn from EUR ...\n",
       "4844  negative  Net sales of the Paper segment decreased to EU...\n",
       "4845  negative  Sales in Finland decreased by 10.5 % in Januar...\n",
       "\n",
       "[4846 rows x 2 columns]"
      ]
     },
     "execution_count": 2,
     "metadata": {},
     "output_type": "execute_result"
    }
   ],
   "source": [
    "data = pd.read_csv(costants.CSV_PATH, sep=\",\", names=['sentiment', 'text'], encoding='latin-1')\n",
    "data"
   ]
  },
  {
   "cell_type": "code",
   "execution_count": 3,
   "metadata": {},
   "outputs": [
    {
     "data": {
      "text/plain": [
       "Index(['sentiment', 'text'], dtype='object')"
      ]
     },
     "execution_count": 3,
     "metadata": {},
     "output_type": "execute_result"
    }
   ],
   "source": [
    "data.columns"
   ]
  },
  {
   "cell_type": "code",
   "execution_count": 4,
   "metadata": {},
   "outputs": [],
   "source": [
    "data['sentiment'] = data['sentiment'].replace({'neutral':0, 'positive':1, 'negative':-1})"
   ]
  },
  {
   "cell_type": "code",
   "execution_count": 6,
   "metadata": {},
   "outputs": [
    {
     "data": {
      "text/plain": [
       "<Axes: >"
      ]
     },
     "execution_count": 6,
     "metadata": {},
     "output_type": "execute_result"
    },
    {
     "data": {
      "image/png": "[encoded data removed]",
      "text/plain": [
       "<Figure size 640x480 with 1 Axes>"
      ]
     },
     "metadata": {},
     "output_type": "display_data"
    }
   ],
   "source": [
    "data['sentiment'].hist()"
   ]
  },
  {
   "cell_type": "code",
   "execution_count": 20,
   "metadata": {},
   "outputs": [
    {
     "data": {
      "text/plain": [
       " 0    2879\n",
       " 1    1363\n",
       "-1     604\n",
       "Name: sentiment, dtype: int64"
      ]
     },
     "execution_count": 20,
     "metadata": {},
     "output_type": "execute_result"
    }
   ],
   "source": [
    "data['sentiment'].value_counts()"
   ]
  },
  {
   "cell_type": "code",
   "execution_count": 8,
   "metadata": {},
   "outputs": [
    {
     "data": {
      "text/plain": [
       "'The company said that paper demand increased in all of its main markets , including of publication papers , and that it increased average paper prices by 4 percent compared with last year .'"
      ]
     },
     "execution_count": 8,
     "metadata": {},
     "output_type": "execute_result"
    }
   ],
   "source": [
    "example = data['text'][50]\n",
    "example"
   ]
  },
  {
   "cell_type": "code",
   "execution_count": null,
   "metadata": {},
   "outputs": [],
   "source": []
  },
  {
   "cell_type": "code",
   "execution_count": 9,
   "metadata": {},
   "outputs": [
    {
     "data": {
      "text/plain": [
       "['The',\n",
       " 'company',\n",
       " 'said',\n",
       " 'that',\n",
       " 'paper',\n",
       " 'demand',\n",
       " 'increased',\n",
       " 'in',\n",
       " 'all',\n",
       " 'of',\n",
       " 'its',\n",
       " 'main',\n",
       " 'markets',\n",
       " ',',\n",
       " 'including',\n",
       " 'of',\n",
       " 'publication',\n",
       " 'papers',\n",
       " ',',\n",
       " 'and',\n",
       " 'that',\n",
       " 'it',\n",
       " 'increased',\n",
       " 'average',\n",
       " 'paper',\n",
       " 'prices',\n",
       " 'by',\n",
       " '4',\n",
       " 'percent',\n",
       " 'compared',\n",
       " 'with',\n",
       " 'last',\n",
       " 'year',\n",
       " '.']"
      ]
     },
     "execution_count": 9,
     "metadata": {},
     "output_type": "execute_result"
    }
   ],
   "source": [
    "tokens = nltk.word_tokenize(example)\n",
    "tokens"
   ]
  },
  {
   "cell_type": "code",
   "execution_count": 10,
   "metadata": {},
   "outputs": [
    {
     "data": {
      "text/plain": [
       "[('The', 'DT'),\n",
       " ('company', 'NN'),\n",
       " ('said', 'VBD'),\n",
       " ('that', 'IN'),\n",
       " ('paper', 'NN'),\n",
       " ('demand', 'NN'),\n",
       " ('increased', 'VBD'),\n",
       " ('in', 'IN'),\n",
       " ('all', 'DT'),\n",
       " ('of', 'IN'),\n",
       " ('its', 'PRP$'),\n",
       " ('main', 'JJ'),\n",
       " ('markets', 'NNS'),\n",
       " (',', ','),\n",
       " ('including', 'VBG'),\n",
       " ('of', 'IN'),\n",
       " ('publication', 'NN'),\n",
       " ('papers', 'NNS'),\n",
       " (',', ','),\n",
       " ('and', 'CC'),\n",
       " ('that', 'IN'),\n",
       " ('it', 'PRP'),\n",
       " ('increased', 'VBD'),\n",
       " ('average', 'JJ'),\n",
       " ('paper', 'NN'),\n",
       " ('prices', 'NNS'),\n",
       " ('by', 'IN'),\n",
       " ('4', 'CD'),\n",
       " ('percent', 'NN'),\n",
       " ('compared', 'VBN'),\n",
       " ('with', 'IN'),\n",
       " ('last', 'JJ'),\n",
       " ('year', 'NN'),\n",
       " ('.', '.')]"
      ]
     },
     "execution_count": 10,
     "metadata": {},
     "output_type": "execute_result"
    }
   ],
   "source": [
    "tagged = nltk.pos_tag(tokens)\n",
    "tagged"
   ]
  },
  {
   "cell_type": "code",
   "execution_count": 17,
   "metadata": {},
   "outputs": [],
   "source": [
    "import numpy as np\n",
    "\n",
    "\n",
    "def ds_statistics(ds):\n",
    "    \"\"\"\n",
    "    Returns some statistics on the dataset: \n",
    "\n",
    "    Args:\n",
    "        - ds (pd.DataFrame): the dataset, has two\n",
    "        - columns (sentiment and text)\n",
    "        \n",
    "    Returns:\n",
    "        - dict_stats (Dict): contains the statistics\n",
    "    \"\"\"\n",
    "    \n",
    "    ## calculates statistics on length of text\n",
    "    stats_length_text = calculate_stats_length_text(ds)\n",
    "    \n",
    "    ## calculates statistics on labels\n",
    "    stats_labels = ds['sentiment'].value_counts()\n",
    "    \n",
    "    ## calculates statistics on single words\n",
    "    stats_single_words = calculate_stats_words(ds)\n",
    "    \n",
    "    print({**stats_length_text, \n",
    "                           # **stats_labels,\n",
    "                           # **stats_single_words\n",
    "                           }.items())\n",
    "    \n",
    "    \n",
    "    stats_dict = {\n",
    "        stat: value\n",
    "        for stat, value in {**stats_length_text, \n",
    "                            #**stats_labels,\n",
    "                            #**stats_single_words\n",
    "                            }.items()\n",
    "    }\n",
    "    \n",
    "    return stats_dict\n",
    "    \n",
    "    \n",
    "def calculate_stats_length_text(ds):\n",
    "    \"\"\"\n",
    "    Calculates statistics on the length of the text\n",
    "    in the dataset.\n",
    "\n",
    "    Args:\n",
    "        - ds (pd.DataFrame): the dataset, has two\n",
    "        - columns (sentiment and text)\n",
    "        \n",
    "    Returns:\n",
    "        - dict_stats (Dict): contains the statistics\n",
    "    \"\"\"\n",
    "    text_col = ds['text']\n",
    "    len_text = np.array([len(text) for text in text_col])\n",
    "    max_len = len_text.max()\n",
    "    min_len = len_text.min()\n",
    "    mean_len = len_text.mean()\n",
    "    \n",
    "    return {\n",
    "        'max_len_text': max_len,\n",
    "        'min_len_text': min_len,\n",
    "        'mean_len_text': mean_len\n",
    "    }\n",
    "    \n",
    "\n",
    "\n",
    "\n",
    "\n",
    "def calculate_stats_labels(ds):\n",
    "    \"\"\"\n",
    "    Calculates statistics on the labels\n",
    "    in the dataset.\n",
    "\n",
    "    Args:\n",
    "        - ds (pd.DataFrame): the dataset, has two\n",
    "        - columns (sentiment and text)\n",
    "        \n",
    "    Returns:\n",
    "        - dict_stats (Dict): contains the statistics\n",
    "    \"\"\"\n",
    "    \n",
    "    return ds['sentiment'].value_counts()\n",
    "    \n",
    "    \n",
    "    \n",
    "    \n",
    "\n",
    "def calculate_stats_words(ds):\n",
    "    pass"
   ]
  },
  {
   "cell_type": "code",
   "execution_count": 18,
   "metadata": {},
   "outputs": [
    {
     "name": "stdout",
     "output_type": "stream",
     "text": [
      "dict_items([('max_len_text', 315), ('min_len_text', 9), ('mean_len_text', 128.1320676846884)])\n"
     ]
    },
    {
     "data": {
      "text/plain": [
       "{'max_len_text': 315, 'min_len_text': 9, 'mean_len_text': 128.1320676846884}"
      ]
     },
     "execution_count": 18,
     "metadata": {},
     "output_type": "execute_result"
    }
   ],
   "source": [
    "ds_statistics(ds=data)"
   ]
  },
  {
   "cell_type": "code",
   "execution_count": 33,
   "metadata": {},
   "outputs": [
    {
     "data": {
      "text/plain": [
       "(112174,\n",
       " [('.', 4846),\n",
       "  ('the', 4712),\n",
       "  (',', 4663),\n",
       "  ('of', 3202),\n",
       "  ('in', 2752),\n",
       "  ('and', 2585),\n",
       "  ('to', 2496),\n",
       "  ('a', 1631),\n",
       "  ('The', 1354),\n",
       "  ('for', 1130)])"
      ]
     },
     "execution_count": 33,
     "metadata": {},
     "output_type": "execute_result"
    }
   ],
   "source": [
    "def calculate_stats_words(ds):\n",
    "    \"\"\"\n",
    "    Calculates statistics on the single words\n",
    "    in the dataset.\n",
    "\n",
    "    Args:\n",
    "        - ds (pd.DataFrame): the dataset, has two\n",
    "        columns (sentiment and text)\n",
    "\n",
    "    Returns:\n",
    "        - list_tot_words (List): contains all\n",
    "        the world in the ds (with repetitions)\n",
    "    \"\"\"\n",
    "    list_tot_words = []\n",
    "    for text in ds['text']:\n",
    "        list_tot_words += nltk.word_tokenize(text)\n",
    "        \n",
    "    counts_words = np.unique(list_tot_words, return_counts=True)\n",
    "    counts_words = sorted(list(zip(*counts_words)), key=lambda x: x[1], reverse=True)\n",
    "        \n",
    "    return list_tot_words, counts_words\n",
    "\n",
    "tot_words, counts_words = calculate_stats_words(data)\n",
    "len(tot_words), counts_words[:10]"
   ]
  },
  {
   "cell_type": "code",
   "execution_count": 50,
   "metadata": {},
   "outputs": [],
   "source": [
    "from ipywidgets import FloatProgress"
   ]
  },
  {
   "cell_type": "code",
   "execution_count": 34,
   "metadata": {},
   "outputs": [],
   "source": [
    "from nltk.sentiment import SentimentIntensityAnalyzer\n",
    "from tqdm.notebook import tqdm\n",
    "\n",
    "sia = SentimentIntensityAnalyzer()"
   ]
  },
  {
   "cell_type": "code",
   "execution_count": 41,
   "metadata": {},
   "outputs": [
    {
     "data": {
      "text/plain": [
       "{'neg': 0.0, 'neu': 1.0, 'pos': 0.0, 'compound': 0.0}"
      ]
     },
     "execution_count": 41,
     "metadata": {},
     "output_type": "execute_result"
    }
   ],
   "source": [
    "sia.polarity_scores('hello')"
   ]
  },
  {
   "cell_type": "code",
   "execution_count": 51,
   "metadata": {},
   "outputs": [
    {
     "ename": "ImportError",
     "evalue": "IProgress not found. Please update jupyter and ipywidgets. See https://ipywidgets.readthedocs.io/en/stable/user_install.html",
     "output_type": "error",
     "traceback": [
      "\u001b[0;31m---------------------------------------------------------------------------\u001b[0m",
      "\u001b[0;31mImportError\u001b[0m                               Traceback (most recent call last)",
      "Cell \u001b[0;32mIn[51], line 2\u001b[0m\n\u001b[1;32m      1\u001b[0m res \u001b[39m=\u001b[39m {}\n\u001b[0;32m----> 2\u001b[0m \u001b[39mfor\u001b[39;00m i, row \u001b[39min\u001b[39;00m tqdm(data\u001b[39m.\u001b[39;49miterrows(), total\u001b[39m=\u001b[39;49m\u001b[39mlen\u001b[39;49m(data)):\n\u001b[1;32m      3\u001b[0m     text \u001b[39m=\u001b[39m row[\u001b[39m'\u001b[39m\u001b[39mtext\u001b[39m\u001b[39m'\u001b[39m]\n\u001b[1;32m      4\u001b[0m     \u001b[39m#myid = row['Id']\u001b[39;00m\n",
      "File \u001b[0;32m~/.conda/envs/NLP/lib/python3.10/site-packages/tqdm/notebook.py:238\u001b[0m, in \u001b[0;36mtqdm_notebook.__init__\u001b[0;34m(self, *args, **kwargs)\u001b[0m\n\u001b[1;32m    236\u001b[0m unit_scale \u001b[39m=\u001b[39m \u001b[39m1\u001b[39m \u001b[39mif\u001b[39;00m \u001b[39mself\u001b[39m\u001b[39m.\u001b[39munit_scale \u001b[39mis\u001b[39;00m \u001b[39mTrue\u001b[39;00m \u001b[39melse\u001b[39;00m \u001b[39mself\u001b[39m\u001b[39m.\u001b[39munit_scale \u001b[39mor\u001b[39;00m \u001b[39m1\u001b[39m\n\u001b[1;32m    237\u001b[0m total \u001b[39m=\u001b[39m \u001b[39mself\u001b[39m\u001b[39m.\u001b[39mtotal \u001b[39m*\u001b[39m unit_scale \u001b[39mif\u001b[39;00m \u001b[39mself\u001b[39m\u001b[39m.\u001b[39mtotal \u001b[39melse\u001b[39;00m \u001b[39mself\u001b[39m\u001b[39m.\u001b[39mtotal\n\u001b[0;32m--> 238\u001b[0m \u001b[39mself\u001b[39m\u001b[39m.\u001b[39mcontainer \u001b[39m=\u001b[39m \u001b[39mself\u001b[39;49m\u001b[39m.\u001b[39;49mstatus_printer(\u001b[39mself\u001b[39;49m\u001b[39m.\u001b[39;49mfp, total, \u001b[39mself\u001b[39;49m\u001b[39m.\u001b[39;49mdesc, \u001b[39mself\u001b[39;49m\u001b[39m.\u001b[39;49mncols)\n\u001b[1;32m    239\u001b[0m \u001b[39mself\u001b[39m\u001b[39m.\u001b[39mcontainer\u001b[39m.\u001b[39mpbar \u001b[39m=\u001b[39m proxy(\u001b[39mself\u001b[39m)\n\u001b[1;32m    240\u001b[0m \u001b[39mself\u001b[39m\u001b[39m.\u001b[39mdisplayed \u001b[39m=\u001b[39m \u001b[39mFalse\u001b[39;00m\n",
      "File \u001b[0;32m~/.conda/envs/NLP/lib/python3.10/site-packages/tqdm/notebook.py:113\u001b[0m, in \u001b[0;36mtqdm_notebook.status_printer\u001b[0;34m(_, total, desc, ncols)\u001b[0m\n\u001b[1;32m    104\u001b[0m \u001b[39m# Fallback to text bar if there's no total\u001b[39;00m\n\u001b[1;32m    105\u001b[0m \u001b[39m# DEPRECATED: replaced with an 'info' style bar\u001b[39;00m\n\u001b[1;32m    106\u001b[0m \u001b[39m# if not total:\u001b[39;00m\n\u001b[0;32m   (...)\u001b[0m\n\u001b[1;32m    110\u001b[0m \n\u001b[1;32m    111\u001b[0m \u001b[39m# Prepare IPython progress bar\u001b[39;00m\n\u001b[1;32m    112\u001b[0m \u001b[39mif\u001b[39;00m IProgress \u001b[39mis\u001b[39;00m \u001b[39mNone\u001b[39;00m:  \u001b[39m# #187 #451 #558 #872\u001b[39;00m\n\u001b[0;32m--> 113\u001b[0m     \u001b[39mraise\u001b[39;00m \u001b[39mImportError\u001b[39;00m(WARN_NOIPYW)\n\u001b[1;32m    114\u001b[0m \u001b[39mif\u001b[39;00m total:\n\u001b[1;32m    115\u001b[0m     pbar \u001b[39m=\u001b[39m IProgress(\u001b[39mmin\u001b[39m\u001b[39m=\u001b[39m\u001b[39m0\u001b[39m, \u001b[39mmax\u001b[39m\u001b[39m=\u001b[39mtotal)\n",
      "\u001b[0;31mImportError\u001b[0m: IProgress not found. Please update jupyter and ipywidgets. See https://ipywidgets.readthedocs.io/en/stable/user_install.html"
     ]
    }
   ],
   "source": [
    "res = {}\n",
    "for i, row in tqdm(data.iterrows(), total=len(data)):\n",
    "    text = row['text']\n",
    "    #myid = row['Id']\n",
    "    res[i] = sia.polarity_scores(text)\n",
    "    \n",
    "res"
   ]
  },
  {
   "cell_type": "code",
   "execution_count": 49,
   "metadata": {},
   "outputs": [
    {
     "name": "stderr",
     "output_type": "stream",
     "text": [
      "UsageError: Line magic function `%jupyter` not found.\n"
     ]
    }
   ],
   "source": [
    "#pip install ipywidgets\n",
    "%jupyter nbextension enable --py widgetsnbextension"
   ]
  },
  {
   "cell_type": "code",
   "execution_count": null,
   "metadata": {},
   "outputs": [],
   "source": []
  }
 ],
 "metadata": {
  "kernelspec": {
   "display_name": "NLP",
   "language": "python",
   "name": "python3"
  },
  "language_info": {
   "codemirror_mode": {
    "name": "ipython",
    "version": 3
   },
   "file_extension": ".py",
   "mimetype": "text/x-python",
   "name": "python",
   "nbconvert_exporter": "python",
   "pygments_lexer": "ipython3",
   "version": "3.10.9"
  },
  "orig_nbformat": 4,
  "vscode": {
   "interpreter": {
    "hash": "78f0893177b1b8311882ec400ef682ac29ecf3ea6f7dd2e347ddeb4dced08cce"
   }
  }
 },
 "nbformat": 4,
 "nbformat_minor": 2
}
